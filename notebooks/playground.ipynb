{
 "cells": [
  {
   "cell_type": "code",
   "execution_count": 1,
   "metadata": {},
   "outputs": [],
   "source": [
    "from src.crawler import WebCrawler\n",
    "from src.parser import VerbParser\n",
    "\n",
    "crawler = WebCrawler()\n",
    "parser = VerbParser()\n",
    "\n",
    "url = \"https://www.spanishdict.com/conjugate/hablar\"\n"
   ]
  },
  {
   "cell_type": "code",
   "execution_count": null,
   "metadata": {},
   "outputs": [],
   "source": [
    "html = crawler.crawl_page(url)\n"
   ]
  }
 ],
 "metadata": {
  "interpreter": {
   "hash": "3b263963f0320e140b940326f4fcfedcbe683faf1cb81e59479155c46d51878c"
  },
  "kernelspec": {
   "display_name": "Python 3.9.7 64-bit ('spanish-verb-training': venv)",
   "language": "python",
   "name": "python3"
  },
  "language_info": {
   "codemirror_mode": {
    "name": "ipython",
    "version": 3
   },
   "file_extension": ".py",
   "mimetype": "text/x-python",
   "name": "python",
   "nbconvert_exporter": "python",
   "pygments_lexer": "ipython3",
   "version": "3.9.7"
  },
  "orig_nbformat": 4
 },
 "nbformat": 4,
 "nbformat_minor": 2
}
