{
 "cells": [
  {
   "cell_type": "code",
   "execution_count": 8,
   "metadata": {},
   "outputs": [],
   "source": [
    "from src.crawler import WebCrawler\n",
    "from src.parser import VerbParser\n",
    "import pandas as pd\n",
    "\n",
    "crawler = WebCrawler()\n",
    "parser = VerbParser()\n",
    "\n",
    "url = \"https://www.spanishdict.com/conjugate/gustar\"\n",
    "\n",
    "html = crawler.crawl_page(url)\n",
    "parser.set_html_soup(html)"
   ]
  },
  {
   "cell_type": "code",
   "execution_count": 9,
   "metadata": {},
   "outputs": [
    {
     "data": {
      "text/plain": [
       "[          0         1\n",
       " 0  Present:  gustando\n",
       " 1     Past:   gustado,\n",
       "                   0         1           2           3            4           5\n",
       " 0               NaN   Present   Preterite   Imperfect  Conditional      Future\n",
       " 1                yo     gusto       gusté     gustaba     gustaría     gustaré\n",
       " 2                tú    gustas    gustaste    gustabas    gustarías    gustarás\n",
       " 3       él/ella/Ud.     gusta       gustó     gustaba     gustaría     gustará\n",
       " 4          nosotros  gustamos    gustamos  gustábamos  gustaríamos  gustaremos\n",
       " 5          vosotros   gustáis  gustasteis   gustabais   gustaríais   gustaréis\n",
       " 6  ellos/ellas/Uds.    gustan    gustaron    gustaban    gustarían    gustarán,\n",
       "                   0         1                       2           3\n",
       " 0               NaN   Present               Imperfect      Future\n",
       " 1                yo     guste        gustara, gustase     gustare\n",
       " 2                tú    gustes      gustaras, gustases    gustares\n",
       " 3       él/ella/Ud.     guste        gustara, gustase     gustare\n",
       " 4          nosotros  gustemos  gustáramos, gustásemos  gustáremos\n",
       " 5          vosotros   gustéis    gustarais, gustaseis   gustareis\n",
       " 6  ellos/ellas/Uds.    gusten      gustaran, gustasen    gustaren,\n",
       "           0            1            2\n",
       " 0       NaN  Affirmative     Negative\n",
       " 1        yo            -            -\n",
       " 2        tú        gusta    no gustes\n",
       " 3       Ud.        guste     no guste\n",
       " 4  nosotros     gustemos  no gustemos\n",
       " 5  vosotros       gustad   no gustéis\n",
       " 6      Uds.       gusten    no gusten,\n",
       "                   0                 1                     2  \\\n",
       " 0               NaN           Present             Preterite   \n",
       " 1                yo    estoy gustando       estuve gustando   \n",
       " 2                tú    estás gustando    estuviste gustando   \n",
       " 3       él/ella/Ud.     está gustando       estuvo gustando   \n",
       " 4          nosotros  estamos gustando    estuvimos gustando   \n",
       " 5          vosotros   estáis gustando  estuvisteis gustando   \n",
       " 6  ellos/ellas/Uds.    están gustando   estuvieron gustando   \n",
       " \n",
       "                     3                    4                   5  \n",
       " 0           Imperfect          Conditional              Future  \n",
       " 1     estaba gustando     estaría gustando     estaré gustando  \n",
       " 2    estabas gustando    estarías gustando    estarás gustando  \n",
       " 3     estaba gustando     estaría gustando     estará gustando  \n",
       " 4  estábamos gustando  estaríamos gustando  estaremos gustando  \n",
       " 5   estabais gustando   estaríais gustando   estaréis gustando  \n",
       " 6    estaban gustando    estarían gustando    estarán gustando  ,\n",
       "                   0               1                  2                 3  \\\n",
       " 0               NaN         Present          Preterite              Past   \n",
       " 1                yo      he gustado       hube gustado     había gustado   \n",
       " 2                tú     has gustado    hubiste gustado    habías gustado   \n",
       " 3       él/ella/Ud.      ha gustado       hubo gustado     había gustado   \n",
       " 4          nosotros   hemos gustado    hubimos gustado  habíamos gustado   \n",
       " 5          vosotros  habéis gustado  hubisteis gustado   habíais gustado   \n",
       " 6  ellos/ellas/Uds.     han gustado   hubieron gustado    habían gustado   \n",
       " \n",
       "                    4                 5  \n",
       " 0        Conditional            Future  \n",
       " 1     habría gustado     habré gustado  \n",
       " 2    habrías gustado    habrás gustado  \n",
       " 3     habría gustado     habrá gustado  \n",
       " 4  habríamos gustado  habremos gustado  \n",
       " 5   habríais gustado   habréis gustado  \n",
       " 6    habrían gustado    habrán gustado  ,\n",
       "                   0                1                                       2  \\\n",
       " 0               NaN          Present                                    Past   \n",
       " 1                yo     haya gustado        hubiera gustado, hubiese gustado   \n",
       " 2                tú    hayas gustado      hubieras gustado, hubieses gustado   \n",
       " 3       él/ella/Ud.     haya gustado        hubiera gustado, hubiese gustado   \n",
       " 4          nosotros  hayamos gustado  hubiéramos gustado, hubiésemos gustado   \n",
       " 5          vosotros   hayáis gustado    hubierais gustado, hubieseis gustado   \n",
       " 6  ellos/ellas/Uds.    hayan gustado      hubieran gustado, hubiesen gustado   \n",
       " \n",
       "                     3  \n",
       " 0              Future  \n",
       " 1     hubiere gustado  \n",
       " 2    hubieres gustado  \n",
       " 3     hubiere gustado  \n",
       " 4  hubiéremos gustado  \n",
       " 5   hubiereis gustado  \n",
       " 6    hubieren gustado  ]"
      ]
     },
     "execution_count": 9,
     "metadata": {},
     "output_type": "execute_result"
    }
   ],
   "source": [
    "doc = parser.html_soup\n",
    "tables = pd.read_html(html)\n",
    "tables"
   ]
  }
 ],
 "metadata": {
  "interpreter": {
   "hash": "3b263963f0320e140b940326f4fcfedcbe683faf1cb81e59479155c46d51878c"
  },
  "kernelspec": {
   "display_name": "Python 3.9.7 64-bit ('spanish-verb-training': venv)",
   "language": "python",
   "name": "python3"
  },
  "language_info": {
   "codemirror_mode": {
    "name": "ipython",
    "version": 3
   },
   "file_extension": ".py",
   "mimetype": "text/x-python",
   "name": "python",
   "nbconvert_exporter": "python",
   "pygments_lexer": "ipython3",
   "version": "3.9.7"
  },
  "orig_nbformat": 4
 },
 "nbformat": 4,
 "nbformat_minor": 2
}
